{
 "cells": [
  {
   "cell_type": "code",
   "execution_count": 30,
   "id": "485685cb",
   "metadata": {},
   "outputs": [
    {
     "name": "stdout",
     "output_type": "stream",
     "text": [
      "1\n",
      "2\n",
      "3\n",
      "4\n",
      "5\n",
      "6\n",
      "7\n",
      "8\n",
      "9\n",
      "10\n"
     ]
    }
   ],
   "source": [
    "# Esercizio 1\n",
    "# Listare i numeri da 1 a 10 usando il ciclo FOR\n",
    "\n",
    "for i in range(1, 11):   # da 1 a 10 (for esclude l' ultimo numero)\n",
    "    print(i)\n"
   ]
  },
  {
   "cell_type": "code",
   "execution_count": 31,
   "id": "37c9007b",
   "metadata": {},
   "outputs": [
    {
     "name": "stdout",
     "output_type": "stream",
     "text": [
      "<class 'int'>\n"
     ]
    }
   ],
   "source": [
    "# Esercizio 2\n",
    "# Dichiara la variabile x e assegna il valore di 10\n",
    "# Verifica che sia INT\n",
    "\n",
    "x = 10\n",
    "print(type(x))"
   ]
  },
  {
   "cell_type": "code",
   "execution_count": 32,
   "id": "80d77862",
   "metadata": {},
   "outputs": [
    {
     "name": "stdout",
     "output_type": "stream",
     "text": [
      "55\n"
     ]
    }
   ],
   "source": [
    "# Esercizio 3\n",
    "# Ciclo che somma i numeri da 1 a 10 (es 1+2+3+4+5 etc) il risultato dovrebbe essere 55\n",
    "\n",
    "total = 0\n",
    "for i in range(1, 11): # da 1 a 10 (for esclude l' ultimo numero)\n",
    "    total += i\n",
    "print(total)"
   ]
  },
  {
   "cell_type": "code",
   "execution_count": 33,
   "id": "08d62374",
   "metadata": {},
   "outputs": [
    {
     "name": "stdout",
     "output_type": "stream",
     "text": [
      "Il numero 3 è dispari\n",
      "Il numero 2 è pari\n"
     ]
    }
   ],
   "source": [
    "# Esercizio 4\n",
    "# Programma che distingue tra numeri dispari e pari\n",
    "\n",
    "numero1 = 3\n",
    "numero2 = 2\n",
    "\n",
    "def pari_o_dispari(n):\n",
    "    # Controlla se il numero è pari o dispari\n",
    "    result = \"pari\" if n % 2 == 0 else \"dispari\"  # se il modulo del numero è 2, allora è pari, altrimenti dispari\n",
    "    print(f\"Il numero {n} è {result}\")\n",
    "\n",
    "pari_o_dispari(numero1)\n",
    "pari_o_dispari(numero2)\n",
    "\n"
   ]
  },
  {
   "cell_type": "code",
   "execution_count": 34,
   "id": "b52cae71",
   "metadata": {},
   "outputs": [
    {
     "name": "stdout",
     "output_type": "stream",
     "text": [
      "La media è: 8.166666666666666\n"
     ]
    }
   ],
   "source": [
    "# Esercizio 5\n",
    "# Media di array di numeri\n",
    "\n",
    "Voti = [6, 7, 8, 9, 9, 10] # array di voti\n",
    "media = sum(Voti) / len(Voti) # media = somma dei voti diviso numero dei voti\n",
    "print(\"La media è:\", media)"
   ]
  },
  {
   "cell_type": "code",
   "execution_count": 35,
   "id": "b1acd83b",
   "metadata": {},
   "outputs": [
    {
     "name": "stdout",
     "output_type": "stream",
     "text": [
      "L'array è in ordine crescente.\n",
      "L'array non è in ordine crescente.\n"
     ]
    }
   ],
   "source": [
    "# Esercizio 6\n",
    "# dato un array, controlla se è ordinato in ordine crescente\n",
    "\n",
    "array = [1, 2, 3, 4]\n",
    "array1 = [3, 2, 3, 4]\n",
    "\n",
    "\n",
    "def OrdineCrescente(array):\n",
    "    for i in range(len(array) - 1):\n",
    "        if array[i] > array[i + 1]:\n",
    "            print(\"L'array non è in ordine crescente.\")\n",
    "            return  # ordine non è crescente\n",
    "    print(\"L'array è in ordine crescente.\")\n",
    "\n",
    "# Controlla se l'array è in ordine crescente\n",
    "OrdineCrescente(array)\n",
    "OrdineCrescente(array1)\n",
    "\n"
   ]
  },
  {
   "cell_type": "code",
   "execution_count": 36,
   "id": "0bcbb55a",
   "metadata": {},
   "outputs": [
    {
     "name": "stdout",
     "output_type": "stream",
     "text": [
      "La somma di x e y è: 30\n"
     ]
    }
   ],
   "source": [
    "# esercizio 7\n",
    "# somma variabile x e y\n",
    "\n",
    "x = 10\n",
    "y = 20\n",
    "\n",
    "def somma(x, y):\n",
    "    return x + y\n",
    "print(\"La somma di x e y è:\", somma(x, y))"
   ]
  },
  {
   "cell_type": "code",
   "execution_count": 37,
   "id": "cac860fc",
   "metadata": {},
   "outputs": [
    {
     "name": "stdout",
     "output_type": "stream",
     "text": [
      "L'area del quadrato è: 40\n"
     ]
    }
   ],
   "source": [
    "# esercizio 8\n",
    "# area di un quadrato da un lato\n",
    "\n",
    "lato = 10\n",
    "area = lato *4\n",
    "print(\"L'area del quadrato è:\", area)"
   ]
  },
  {
   "cell_type": "code",
   "execution_count": 38,
   "id": "55f09fbd",
   "metadata": {},
   "outputs": [
    {
     "name": "stdout",
     "output_type": "stream",
     "text": [
      "25 gradi Celsius sono 77.0 gradi Fahrenheit.\n"
     ]
    }
   ],
   "source": [
    "# esercizio 9\n",
    "# converti gradi celsius in fahrenheit\n",
    "\n",
    "# crea costante che rappresenta il fattore di conversione\n",
    "FACTOR = 9 / 5\n",
    "\n",
    "celsius = 25\n",
    "fahrenheit = (celsius * FACTOR) + 32  # formula di conversione\n",
    "print(f\"{celsius} gradi Celsius sono {fahrenheit} gradi Fahrenheit.\")"
   ]
  },
  {
   "cell_type": "code",
   "execution_count": 39,
   "id": "a26c4aa3",
   "metadata": {},
   "outputs": [
    {
     "name": "stdout",
     "output_type": "stream",
     "text": [
      "L'area del rettangolo è: 50\n"
     ]
    }
   ],
   "source": [
    "# esercizio 10\n",
    "# calcola l'area di un rettangolo\n",
    "\n",
    "lunghezza = 10\n",
    "larghezza = 5\n",
    "area_rettangolo = lunghezza * larghezza  # formula dell'area\n",
    "print(\"L'area del rettangolo è:\", area_rettangolo)"
   ]
  },
  {
   "cell_type": "code",
   "execution_count": 40,
   "id": "d77f0673",
   "metadata": {},
   "outputs": [
    {
     "name": "stdout",
     "output_type": "stream",
     "text": [
      "La somma dei numeri pari è: 10\n"
     ]
    }
   ],
   "source": [
    "# esercizio 11\n",
    "#Scrivere una funzione che prenda in input una lista di numeri interi e restituisca la somma dei\n",
    "#numeri pari presenti nella lista.\n",
    "\n",
    "def somma_numeri_pari(lista):\n",
    "    somma = 0\n",
    "    for numero in lista:\n",
    "        if numero % 2 == 0:  # controlla se il numero è pari\n",
    "            somma += numero\n",
    "    return somma    \n",
    "\n",
    "# Esempio di utilizzo\n",
    "numeri = [5, 3, 6, 2, 2] \n",
    "somma_pari = somma_numeri_pari(numeri)  # chiama la funzione\n",
    "print(\"La somma dei numeri pari è:\", somma_pari)\n",
    "\n"
   ]
  },
  {
   "cell_type": "code",
   "execution_count": 41,
   "id": "72800c94",
   "metadata": {},
   "outputs": [
    {
     "name": "stdout",
     "output_type": "stream",
     "text": [
      "La stringa invertita è: oaiC\n"
     ]
    }
   ],
   "source": [
    "# esercizio 12\n",
    "# Scrivere una funzione che prenda in input una stringa e la restituisca con le lettere in ordine invertito\n",
    "\n",
    "def inverti_stringa(stringa):\n",
    "    # slicing: [start:stop:step]\n",
    "    # con step = -1 la stringa viene letta al contrario\n",
    "    return stringa[::-1]\n",
    "\n",
    "# Esempio di utilizzo\n",
    "stringa = \"Ciao\"\n",
    "stringa_invertita = inverti_stringa(stringa)  # chiama la funzione\n",
    "print(\"La stringa invertita è:\", stringa_invertita)  # stampa la stringa invertita\n"
   ]
  },
  {
   "cell_type": "code",
   "execution_count": 42,
   "id": "5a5310a0",
   "metadata": {},
   "outputs": [
    {
     "name": "stdout",
     "output_type": "stream",
     "text": [
      "Le stringhe con più di 5 caratteri sono: ['benvenuto', 'python', 'programmazione', 'esercizio']\n"
     ]
    }
   ],
   "source": [
    "# esercizio 13\n",
    "#Scrivere una funzione che prenda in input una lista di stringhe e restituisca una lista contenente\n",
    "# solo quelle che hanno una lunghezza maggiore di 5 caratteri.\n",
    "\n",
    "def filtra_stringhe_lunghe(lista):\n",
    "    return [stringa for stringa in lista if len(stringa) > 5]  # lista di comprensione \n",
    "\n",
    "lista1 = [\"ciao\", \"benvenuto\", \"python\", \"programmazione\", \"esercizio\"]\n",
    "lista2 = filtra_stringhe_lunghe(lista1)  # chiama la funzione\n",
    "print(\"Le stringhe con più di 5 caratteri sono:\", lista2)  # stampa la lista filtrata"
   ]
  },
  {
   "cell_type": "code",
   "execution_count": 43,
   "id": "d1edf6ae",
   "metadata": {},
   "outputs": [
    {
     "name": "stdout",
     "output_type": "stream",
     "text": [
      "Il numero massimo è: 10\n"
     ]
    }
   ],
   "source": [
    "# esercizio 14 \n",
    "# Scrivere una funzione che prenda in input una lista di numeri interi e che restituisca quello più grande.\n",
    "\n",
    "lista = [1, 2, 3, 4, 5, 6, 7, 8, 9, 10]\n",
    "\n",
    "def numero_massimo(lista):\n",
    "    massimo = lista[0]  # inizializza il massimo con il primo elemento della lista\n",
    "    for numero in lista:\n",
    "        if numero > massimo:  # controlla se il numero corrente è maggiore del massimo\n",
    "            massimo = numero  # aggiorna il massimo\n",
    "    return massimo\n",
    "\n",
    "# Esempio di utilizzo   \n",
    "massimo = numero_massimo(lista)  # chiama la funzione\n",
    "print(\"Il numero massimo è:\", massimo)  # stampa il numero massimo"
   ]
  },
  {
   "cell_type": "code",
   "execution_count": 44,
   "id": "4e1d0488",
   "metadata": {},
   "outputs": [
    {
     "name": "stdout",
     "output_type": "stream",
     "text": [
      "La parola più lunga è: buongiorno\n"
     ]
    }
   ],
   "source": [
    "# esercizio 15\n",
    "# Scrivere una funzione che prenda in input una lista di parole e che restituisca quella più lunga.\n",
    "\n",
    "def parola_piu_lunga(lista):\n",
    "    massimo = \"\"  # inizializza la variabile come stringa vuota\n",
    "    \n",
    "    for parola in lista:  # scorre ogni parola nella lista\n",
    "        if len(parola) > len(massimo):  # se la parola attuale è più lunga di massimo\n",
    "            massimo = parola  # aggiorna massimo\n",
    "    \n",
    "    return massimo  # restituisce la parola più lunga\n",
    "\n",
    "# Esempio di utilizzo\n",
    "lista = [\"ciao\", \"buongiorno\", \"saluti\", \"buonasera\"]\n",
    "print(\"La parola più lunga è:\", parola_piu_lunga(lista))\n"
   ]
  },
  {
   "cell_type": "code",
   "execution_count": 45,
   "id": "2186a69c",
   "metadata": {},
   "outputs": [
    {
     "name": "stdout",
     "output_type": "stream",
     "text": [
      "5\n"
     ]
    },
    {
     "data": {
      "text/plain": [
       "str"
      ]
     },
     "execution_count": 45,
     "metadata": {},
     "output_type": "execute_result"
    }
   ],
   "source": [
    "# esercizio 16\n",
    "# Scrivere una funzione che prenda in input un numero intero e restituisca il suo valore come stringa.\n",
    "\n",
    "def intToString (numero):\n",
    "    stringa = str(numero)\n",
    "    return stringa\n",
    "\n",
    "numero = 5\n",
    "stringa = intToString(numero)\n",
    "print(stringa)\n",
    "type(stringa)\n"
   ]
  },
  {
   "cell_type": "code",
   "execution_count": 47,
   "id": "f2cf329b",
   "metadata": {},
   "outputs": [
    {
     "name": "stdout",
     "output_type": "stream",
     "text": [
      "10\n"
     ]
    },
    {
     "data": {
      "text/plain": [
       "int"
      ]
     },
     "execution_count": 47,
     "metadata": {},
     "output_type": "execute_result"
    }
   ],
   "source": [
    "# esercizio 17\n",
    "# Scrivere una funzione che prenda in input una stringa rappresentante un numero intero erestituisca il valore intero corrispondente.\n",
    "\n",
    "def StringToInt (stringa):\n",
    "    numero = int(stringa)\n",
    "    return numero\n",
    "\n",
    "stringa = \"10\"\n",
    "numero = StringToInt(stringa)\n",
    "print(numero)\n",
    "type(numero)"
   ]
  },
  {
   "cell_type": "code",
   "execution_count": 52,
   "id": "44c30cd5",
   "metadata": {},
   "outputs": [
    {
     "name": "stdout",
     "output_type": "stream",
     "text": [
      "[1, 2, 3, 4, 5]\n",
      "<class 'int'>\n",
      "<class 'int'>\n",
      "<class 'int'>\n",
      "<class 'int'>\n",
      "<class 'int'>\n"
     ]
    }
   ],
   "source": [
    "# esercizio 18\n",
    "# Scrivere una funzione che prenda in input una lista di numeri come stringhe e restituisca una lista di numeri interi.\n",
    "\n",
    "def numeriInteri(lista):\n",
    "    for i in range(len(lista)):  # scorre ogni elemento della lista\n",
    "        lista[i] = int(lista[i])  # converte ogni stringa in numero intero\n",
    "    return lista  # restituisce la lista aggiornata\n",
    "\n",
    "# Input: numeri come stringhe\n",
    "lista = [\"1\", \"2\", \"3\", \"4\", \"5\"]\n",
    "lista = numeriInteri(lista)  # chiama la funzione\n",
    "print(lista)  # Output: [1, 2, 3, 4, 5]\n",
    "# Stampa il tipo di ogni elemento nella lista\n",
    "for elemento in lista:\n",
    "    print(type(elemento))\n",
    "\n"
   ]
  },
  {
   "cell_type": "code",
   "execution_count": 55,
   "id": "804188e9",
   "metadata": {},
   "outputs": [
    {
     "name": "stdout",
     "output_type": "stream",
     "text": [
      "['1', '2', '3', '4', '5']\n",
      "<class 'str'>\n",
      "<class 'str'>\n",
      "<class 'str'>\n",
      "<class 'str'>\n",
      "<class 'str'>\n"
     ]
    }
   ],
   "source": [
    "# esercizio 19\n",
    "# Scrivere una funzione che prenda in input una lista di numeri \n",
    "# interi e restituisca una lista di stringhe che rappresentano i numeri interi.\n",
    "\n",
    "def numeriStringhe(lista):\n",
    "    for i in range(len(lista)):  # scorre ogni elemento della lista\n",
    "        lista[i] = str(lista[i])  # converte ogni numero intero in stringa\n",
    "    return lista  # restituisce la lista aggiornata\n",
    "\n",
    "# Input: numeri come interi\n",
    "lista = [1, 2, 3, 4, 5]\n",
    "lista = numeriStringhe(lista)  # chiama la funzione\n",
    "print(lista)  # Output: ['1', '2', '3', '4', '5']\n",
    "# Stampa il tipo di ogni elemento nella lista\n",
    "for elemento in lista:\n",
    "    print(type(elemento))"
   ]
  },
  {
   "cell_type": "code",
   "execution_count": 56,
   "id": "12c7cac2",
   "metadata": {},
   "outputs": [
    {
     "name": "stdout",
     "output_type": "stream",
     "text": [
      "[1, 2, 3, 4, 5]\n"
     ]
    }
   ],
   "source": [
    "# esercizio 20\n",
    "# Scrivere una funzione che prenda in input un numero intero e restituisca una lista contenente le sue cifre come numeri interi.\n",
    "\n",
    "def lista_cifre(numero):\n",
    "    # Se il numero è negativo, usiamo il valore assoluto per gestire il segno\n",
    "    numero = abs(numero)\n",
    "    # Convertiamo il numero in stringa per iterare sulle sue cifre e le riconvertiamo in interi\n",
    "    return [int(cifra) for cifra in str(numero)]\n",
    "\n",
    "# Esempio di utilizzo\n",
    "numero = 12345\n",
    "cifre = lista_cifre(numero)\n",
    "print(cifre)  # Output: [1, 2, 3, 4, 5]\n"
   ]
  },
  {
   "cell_type": "code",
   "execution_count": null,
   "id": "9a21bc79",
   "metadata": {},
   "outputs": [],
   "source": [
    "# 22) Qual è la sintassi per dichiarare una variabile?\n",
    "#   nome variabile = valore variabile\n",
    "#   Numero = 1\n",
    "#   Testo = \"parola\"\n",
    "\n",
    "# 23) Qual è la sintassi per dichiarare una costante?\n",
    "#      NOME = 3,14\n",
    "# si usa il nome tutto maiuscolo\n",
    "\n",
    "# 24) Qual è il tipo di dato che rappresenta un insieme di valori univoci e immutabili?\n",
    "#   set\n",
    "# \n",
    "\n",
    "# 25) Qual è il tipo di dato che rappresenta un insieme di valori modificabili e indicizzati tramite chiavi?\n",
    "#   dictionary\n",
    "# \n",
    "\n",
    "# 26) Qual è il tipo di dato che rappresenta un valore booleano?\n",
    "#   True and False (Boolean)\n",
    "# \n",
    "\n",
    "# 27) Quale costrutto viene utilizzato per iterare su una sequenza di valori?\n",
    "#       Ciclo FOR\n",
    "# \n",
    "\n",
    "# 28) Come si può interrompere un ciclo while?\n",
    "#   Usando \"break\"\n",
    "# \n",
    "\n",
    "#\n",
    "# 29) Qual è l'operatore di assegnazione in Python?\n",
    "#   \" = \"\n",
    "# \n",
    "\n",
    "# 30) Cosa fa la funzione str() in Python?\n",
    "#   Trasforma un dato in una stringa\n",
    "#   Es, int 1 diventa stringa con il valore di \"1\"\n"
   ]
  }
 ],
 "metadata": {
  "kernelspec": {
   "display_name": "Python 3",
   "language": "python",
   "name": "python3"
  },
  "language_info": {
   "codemirror_mode": {
    "name": "ipython",
    "version": 3
   },
   "file_extension": ".py",
   "mimetype": "text/x-python",
   "name": "python",
   "nbconvert_exporter": "python",
   "pygments_lexer": "ipython3",
   "version": "3.11.9"
  }
 },
 "nbformat": 4,
 "nbformat_minor": 5
}
